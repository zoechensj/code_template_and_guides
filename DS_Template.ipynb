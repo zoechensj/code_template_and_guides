{
  "cells": [
    {
      "cell_type": "markdown",
      "metadata": {
        "id": "XuRRHQz4vr7H"
      },
      "source": [
        "#The workflow of a data science project\n",
        "\n",
        "\n",
        "1.   Answering the question\n",
        "2.   Checking the data\n",
        "3.   Tidying the data\n",
        "4.   EDA\n",
        "5.   Modelling\n",
        "     1. Pre Processing Data\n",
        "      1.   Cleaning data\n",
        "      2.   Encoding categorical data\n",
        "      3.   Feature Scaling if nesse\n",
        "\n"
      ]
    },
    {
      "cell_type": "markdown",
      "metadata": {
        "id": "DVs4F5CJuFz9"
      },
      "source": [
        "#Pre Read\n",
        "\n",
        "This section is to describe what this notebook is about"
      ]
    },
    {
      "cell_type": "markdown",
      "metadata": {
        "id": "mJV04UYMwsia"
      },
      "source": [
        "# Step 1: Answering the question\n",
        "\n",
        "The first step to any data analysis project is to **define the question or problem we're looking to solve, and to define a meaure(or set of measures) for our success at solving the task.**\n",
        "\n",
        "1. Did you specify the types of data analytic question?\n",
        "\n",
        "2. Did you define the metric for success before begining?\n",
        "\n",
        "3. Did you understand the context for the question and scientific or business application?\n",
        "\n",
        "4. Did you record the experimental design?\n"
      ]
    },
    {
      "cell_type": "code",
      "execution_count": null,
      "metadata": {
        "colab": {
          "base_uri": "https://localhost:8080/",
          "height": 328
        },
        "id": "KDVUXu_PzknN",
        "outputId": "c2c3cbde-d175-43fc-da55-068833db9178"
      },
      "outputs": [
        {
          "ename": "",
          "evalue": "",
          "output_type": "error",
          "traceback": [
            "\u001b[1;31mRunning cells with '/usr/local/bin/python3.12' requires the ipykernel package.\n",
            "\u001b[1;31mRun the following command to install 'ipykernel' into the Python environment. \n",
            "\u001b[1;31mCommand: '/usr/local/bin/python3.12 -m pip install ipykernel -U --user --force-reinstall'"
          ]
        }
      ],
      "source": [
        "# from google.colab import drive\n",
        "# drive.mount('/content/drive')"
      ]
    },
    {
      "cell_type": "markdown",
      "metadata": {
        "id": "UA5SzsLJw6tl"
      },
      "source": [
        "# Step 2: Checking Data\n",
        "\n",
        "In this step, you will:\n",
        "\n",
        "* Import dataset\n",
        "* Checking data quality\n",
        "  * Is there any missing data\n",
        "  * Is there any duplicates?\n",
        "  * what are the data types\n",
        "  * what are the distributions of the data\n",
        "  * Do we need to remove or fix any data?\n",
        "* Basic understanding of the dataset\n",
        "  * The columns\n",
        "  * Size of the datasets\n",
        "  * what columns are categorical, what columns are numeircal\n",
        "\n",
        "Anything else you can think of\n",
        "\n"
      ]
    },
    {
      "cell_type": "markdown",
      "metadata": {
        "id": "CWbbpXitxz1y"
      },
      "source": [
        "# Step 3: Tidying the data\n",
        "\n",
        "This step is to fix all the problems we have seen from last steps."
      ]
    },
    {
      "cell_type": "markdown",
      "metadata": {
        "id": "Up4by2BXyT6h"
      },
      "source": [
        "# Step 4: EDA\n",
        "\n",
        "In this step, we will do some analysis on the dataset to understand some key information of the data.\n",
        "\n",
        "You can check:\n",
        "* Distributions\n",
        "* Correlations\n",
        "* Key drivers for solving the problem\n",
        "* or anything else you want to analyze on"
      ]
    },
    {
      "cell_type": "markdown",
      "metadata": {
        "id": "XPAV3WWFy1lX"
      },
      "source": [
        "# Step 5: Modelling\n",
        "\n",
        "In this step, you will use ML to predict the dataset."
      ]
    },
    {
      "cell_type": "code",
      "execution_count": null,
      "metadata": {
        "id": "IwcIsxbBxyVN"
      },
      "outputs": [],
      "source": []
    }
  ],
  "metadata": {
    "colab": {
      "provenance": []
    },
    "kernelspec": {
      "display_name": "Python 3",
      "name": "python3"
    },
    "language_info": {
      "name": "python",
      "version": "3.12.1"
    }
  },
  "nbformat": 4,
  "nbformat_minor": 0
}
